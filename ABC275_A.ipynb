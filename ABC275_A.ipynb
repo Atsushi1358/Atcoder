{
  "nbformat": 4,
  "nbformat_minor": 0,
  "metadata": {
    "colab": {
      "provenance": [],
      "authorship_tag": "ABX9TyMAmyOW/6Ehf26dY/XQJLG7",
      "include_colab_link": true
    },
    "kernelspec": {
      "name": "python3",
      "display_name": "Python 3"
    },
    "language_info": {
      "name": "python"
    }
  },
  "cells": [
    {
      "cell_type": "markdown",
      "metadata": {
        "id": "view-in-github",
        "colab_type": "text"
      },
      "source": [
        "<a href=\"https://colab.research.google.com/github/Atsushi1358/Atcoder/blob/main/ABC275_A.ipynb\" target=\"_parent\"><img src=\"https://colab.research.google.com/assets/colab-badge.svg\" alt=\"Open In Colab\"/></a>"
      ]
    },
    {
      "cell_type": "markdown",
      "source": [
        "問題文\n",
        "AtCoder 村には N 本の橋があり、i 本目（ i は 1 以上 N 以下の整数）の橋の高さは H \n",
        "i\n",
        "​\n",
        "  です。\n",
        "ここで、AtCoder 村にある N 本の橋のうち、どの相異なる 2 本の橋も高さが異なります。\n",
        "\n",
        "AtCoder 村で最も高い橋は何本目の橋か出力してください。\n",
        "\n",
        "制約\n",
        "1≤N≤100\n",
        "1≤H \n",
        "i\n",
        "​\n",
        " ≤10 \n",
        "9\n",
        " \n",
        "H \n",
        "i\n",
        "​\n",
        "  はすべて異なる\n",
        "入力はすべて整数"
      ],
      "metadata": {
        "id": "4qTrofuHp9bY"
      }
    },
    {
      "cell_type": "code",
      "execution_count": null,
      "metadata": {
        "id": "BOo-hiA4pxtQ"
      },
      "outputs": [],
      "source": [
        "n = int(input())\n",
        "h_list = list(map(int, input().split()))\n",
        "max_value = max(h_list)\n",
        "max_index = h_list.index(max_value)\n",
        "print(max_index+1)"
      ]
    }
  ]
}