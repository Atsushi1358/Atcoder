{
  "nbformat": 4,
  "nbformat_minor": 0,
  "metadata": {
    "colab": {
      "provenance": [],
      "collapsed_sections": [],
      "authorship_tag": "ABX9TyNhjvdsqAaf8vlEmRKhV7Q/",
      "include_colab_link": true
    },
    "kernelspec": {
      "name": "python3",
      "display_name": "Python 3"
    },
    "language_info": {
      "name": "python"
    }
  },
  "cells": [
    {
      "cell_type": "markdown",
      "metadata": {
        "id": "view-in-github",
        "colab_type": "text"
      },
      "source": [
        "<a href=\"https://colab.research.google.com/github/Atsushi1358/Atcoder/blob/main/ABC276_A.ipynb\" target=\"_parent\"><img src=\"https://colab.research.google.com/assets/colab-badge.svg\" alt=\"Open In Colab\"/></a>"
      ]
    },
    {
      "cell_type": "markdown",
      "source": [
        "問題文\n",
        "英小文字からなる文字列 S が与えられます。\n",
        "S に a が現れるならば最後に現れるのが何文字目かを出力し、現れないならば −1 を出力してください。\n",
        "\n",
        "制約\n",
        "S は英小文字からなる長さ 1 以上 100 以下の文字列\n"
      ],
      "metadata": {
        "id": "hDyNbDpCQczL"
      }
    },
    {
      "cell_type": "code",
      "execution_count": 3,
      "metadata": {
        "id": "Jkn9JtvIDrJI"
      },
      "outputs": [],
      "source": [
        "s = list(input())\n",
        "answer = False\n",
        "for i in range(len(s), 0 , -1):\n",
        "  if s[i-1] == 'a':\n",
        "    answer = i\n",
        "    break\n",
        "if answer == False:\n",
        "  print(-1)\n",
        "else:\n",
        "  print(answer)\n",
        "\n"
      ]
    }
  ]
}