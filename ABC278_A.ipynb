{
  "nbformat": 4,
  "nbformat_minor": 0,
  "metadata": {
    "colab": {
      "provenance": [],
      "authorship_tag": "ABX9TyNNQJFUBZZrxAhM3KLIzQQA",
      "include_colab_link": true
    },
    "kernelspec": {
      "name": "python3",
      "display_name": "Python 3"
    },
    "language_info": {
      "name": "python"
    }
  },
  "cells": [
    {
      "cell_type": "markdown",
      "metadata": {
        "id": "view-in-github",
        "colab_type": "text"
      },
      "source": [
        "<a href=\"https://colab.research.google.com/github/Atsushi1358/Atcoder/blob/main/ABC278_A.ipynb\" target=\"_parent\"><img src=\"https://colab.research.google.com/assets/colab-badge.svg\" alt=\"Open In Colab\"/></a>"
      ]
    },
    {
      "cell_type": "code",
      "execution_count": null,
      "metadata": {
        "id": "HxwuZqZGYrr5"
      },
      "outputs": [],
      "source": [
        "n, k = map(int, input().split())\n",
        "A = list(map(str, input().split()))\n",
        "for i in range(k):\n",
        "  A = A[1:]\n",
        "  A.append(\"0\")\n",
        "answer = \" \".join(A)\n",
        "print(answer)\n"
      ]
    }
  ]
}