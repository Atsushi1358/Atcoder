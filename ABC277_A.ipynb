{
  "nbformat": 4,
  "nbformat_minor": 0,
  "metadata": {
    "colab": {
      "provenance": [],
      "authorship_tag": "ABX9TyP0BgSupExsoIeARF6YsSYy",
      "include_colab_link": true
    },
    "kernelspec": {
      "name": "python3",
      "display_name": "Python 3"
    },
    "language_info": {
      "name": "python"
    }
  },
  "cells": [
    {
      "cell_type": "markdown",
      "metadata": {
        "id": "view-in-github",
        "colab_type": "text"
      },
      "source": [
        "<a href=\"https://colab.research.google.com/github/Atsushi1358/Atcoder/blob/main/ABC277_A.ipynb\" target=\"_parent\"><img src=\"https://colab.research.google.com/assets/colab-badge.svg\" alt=\"Open In Colab\"/></a>"
      ]
    },
    {
      "cell_type": "code",
      "execution_count": null,
      "metadata": {
        "id": "hELx65gxaUBe"
      },
      "outputs": [],
      "source": []
    },
    {
      "cell_type": "markdown",
      "source": [
        "A - ^{-1}  / \n",
        "実行時間制限: 2 sec / メモリ制限: 1024 MB\n",
        "\n",
        "配点 : 100 点\n",
        "\n",
        "問題文\n",
        "(1,2,…,N) を並び替えた数列 P と整数 X が与えられます。 数列 P の i 番目の項の値は P \n",
        "i\n",
        "​\n",
        "  です。 P \n",
        "k\n",
        "​\n",
        " =X を満たす k を出力してください。\n",
        "\n",
        "制約\n",
        "1≤N≤100\n",
        "1≤X≤N\n",
        "P は (1,2,…,N) を並び替えてできる数列\n",
        "入力はすべて整数\n",
        "入力\n",
        "入力は以下の形式で標準入力から与えられる。\n",
        "\n",
        "N X\n",
        "P \n",
        "1\n",
        "​\n",
        "  P \n",
        "2\n",
        "​\n",
        "  … P \n",
        "N\n",
        "​\n",
        " \n",
        "出力\n",
        "答えを出力せよ。"
      ],
      "metadata": {
        "id": "lyhPHp66afLn"
      }
    },
    {
      "cell_type": "code",
      "source": [
        "N, X = map(int, input().split())\n",
        "P = input().split()\n",
        "P.index(X)"
      ],
      "metadata": {
        "id": "S6mOPH1Caf55"
      },
      "execution_count": null,
      "outputs": []
    }
  ]
}