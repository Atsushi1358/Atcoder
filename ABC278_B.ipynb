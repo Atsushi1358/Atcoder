{
  "nbformat": 4,
  "nbformat_minor": 0,
  "metadata": {
    "colab": {
      "provenance": [],
      "authorship_tag": "ABX9TyPlHYhL0fc/iDLsuT2mNkoa",
      "include_colab_link": true
    },
    "kernelspec": {
      "name": "python3",
      "display_name": "Python 3"
    },
    "language_info": {
      "name": "python"
    }
  },
  "cells": [
    {
      "cell_type": "markdown",
      "metadata": {
        "id": "view-in-github",
        "colab_type": "text"
      },
      "source": [
        "<a href=\"https://colab.research.google.com/github/Atsushi1358/Atcoder/blob/main/ABC278_B.ipynb\" target=\"_parent\"><img src=\"https://colab.research.google.com/assets/colab-badge.svg\" alt=\"Open In Colab\"/></a>"
      ]
    },
    {
      "cell_type": "markdown",
      "source": [
        "B - Misjudge the Time  / \n",
        "実行時間制限: 2 sec / メモリ制限: 1024 MB\n",
        "\n",
        "Score : 200 points\n",
        "\n",
        "Problem Statement\n",
        "Takahashi bought a table clock.\n",
        "The clock shows the time as shown in Figure 1 at AB:CD in the 24-hour system.\n",
        "For example, the clock in Figure 2 shows 7:58.\n",
        "\n",
        "The format of the time is formally described as follows.\n",
        "Suppose that the current time is m minutes past h in the 24-hour system. Here, the 24-hour system represents the hour by an integer between 0 and 23 (inclusive), and the minute by an integer between 0 and 59 (inclusive).\n",
        "Let A be the tens digit of h, B be the ones digit of h, C be the tens digit of m, and D be the ones digit of m. (Here, if h has only one digit, we consider that it has a leading zero; the same applies to m.)\n",
        "Then, the clock shows A in its top-left, B in its bottom-left, C in its top-right, and D in its bottom-right.\n",
        "\n",
        "image\n",
        "\n",
        "Takahashi has decided to call a time a confusing time if it satisfies the following condition:\n",
        "\n",
        "after swapping the top-right and bottom-left digits on the clock, it still reads a valid time in the 24-hour system.\n",
        "For example, the clock in Figure 3 shows 20:13. After swapping its top-right and bottom-left digits, it reads 21:03. Thus, 20:13 is a confusing time.\n",
        "\n",
        "The clock now shows H:M.\n",
        "Find the next confusing time (including now) in the 24-hour system.\n",
        "\n",
        "Constraints\n",
        "0≤H≤23\n",
        "0≤M≤59\n",
        "H and M are integers.\n"
      ],
      "metadata": {
        "id": "-uTMzzbBroVR"
      }
    },
    {
      "cell_type": "code",
      "execution_count": 1,
      "metadata": {
        "colab": {
          "base_uri": "https://localhost:8080/"
        },
        "id": "bCculs0lrcWu",
        "outputId": "4de2749c-25f3-4893-a15e-202a6670108f"
      },
      "outputs": [
        {
          "output_type": "stream",
          "name": "stdout",
          "text": [
            "19 57\n",
            "20 0\n"
          ]
        }
      ],
      "source": [
        "H, M = map(int, input().split())\n",
        "\n",
        "#見間違え安いかどうかチェックする関数\n",
        "def check(h,m):\n",
        "  #inputを整形\n",
        "  h = str(h)\n",
        "  m = str(m)\n",
        "  if len(h)==1:\n",
        "    h = \"0\" + h\n",
        "  if len(m)==1:\n",
        "    m = \"0\" + m\n",
        "  #見間違えやすい時間を定義\n",
        "  new_h = h[0] + m[0]\n",
        "  new_m = h[1] + m[1]\n",
        "  #intに変換\n",
        "  new_h_int = int(new_h)\n",
        "  new_m_int = int(new_m)\n",
        "  #check\n",
        "  if (new_h_int<=23) and (new_m_int<=59):\n",
        "    return True\n",
        "  else:\n",
        "    return False\n",
        "\n",
        "answer = False\n",
        "#input(h, m)を起点に時刻を全探索する\n",
        "MinuteOfDay = 24 * 60\n",
        "for i in range(MinuteOfDay):\n",
        "  #まずチェック\n",
        "  answer = check(H, M)\n",
        "  if answer == True:\n",
        "    break\n",
        "  #時刻を1分進める\n",
        "  M = M + 1\n",
        "  if M >= 60:\n",
        "    H = H + M // 60\n",
        "    M = M % 60 \n",
        "    if H >= 24:\n",
        "      H = H - 24\n",
        "    \n",
        "  \n",
        "print(H, M)\n",
        "    \n",
        "  \n",
        "\n"
      ]
    },
    {
      "cell_type": "code",
      "source": [],
      "metadata": {
        "id": "0-OCey89yYPO"
      },
      "execution_count": null,
      "outputs": []
    }
  ]
}